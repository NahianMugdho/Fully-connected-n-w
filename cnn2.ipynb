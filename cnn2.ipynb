{
  "nbformat": 4,
  "nbformat_minor": 0,
  "metadata": {
    "colab": {
      "provenance": []
    },
    "kernelspec": {
      "name": "python3",
      "display_name": "Python 3"
    },
    "language_info": {
      "name": "python"
    }
  },
  "cells": [
    {
      "cell_type": "code",
      "execution_count": null,
      "metadata": {
        "id": "pEzJlAcm_qX1"
      },
      "outputs": [],
      "source": []
    },
    {
      "cell_type": "code",
      "source": [
        "from google.colab import drive\n",
        "drive.mount('/content/drive')\n",
        "import tensorflow as tf\n",
        "from keras.preprocessing.image import ImageDataGenerator\n",
        "\n",
        "#Training Set\n",
        "train_datagen = ImageDataGenerator(rescale = 1./255,\n",
        "                                   shear_range = 0.2,\n",
        "                                   zoom_range = 0.2,\n",
        "                                   horizontal_flip = True)\n",
        "training_set = train_datagen.flow_from_directory('/content/drive/MyDrive/dataset/training_set',\n",
        "                                                 target_size = (64, 64),\n",
        "                                                 batch_size = 32,\n",
        "                                                 class_mode = 'binary')\n",
        "#Test Set\n",
        "\n",
        "test_datagen = ImageDataGenerator(rescale = 1./255)\n",
        "test_set = test_datagen.flow_from_directory('/content/drive/MyDrive/dataset/test_set',\n",
        "                                            target_size = (64, 64),\n",
        "                                            batch_size = 32,\n",
        "                                            class_mode = 'binary')\n",
        "cnn = tf.keras.models.Sequential()\n",
        "\n",
        "cnn.add(tf.keras.layers.Conv2D(filters=32, kernel_size=3, activation='relu', input_shape=[64, 64, 3]))\n",
        "\n",
        "cnn.add(tf.keras.layers.MaxPool2D(pool_size=2, strides=2))\n",
        "\n",
        "cnn.add(tf.keras.layers.Conv2D(filters=32, kernel_size=3, activation='relu'))\n",
        "cnn.add(tf.keras.layers.MaxPool2D(pool_size=2, strides=2))\n",
        "\n",
        "# Flattening\n",
        "cnn.add(tf.keras.layers.Flatten())\n",
        "\n",
        "#full connection\n",
        "# Adding the First hidden layer\n",
        "from keras.layers import Dense\n",
        "cnn.add(Dense(units=128, activation='relu'))\n",
        "\n",
        "#output layer\n",
        "cnn.add(Dense(units=1, activation='sigmoid'))\n",
        "\n",
        "# Compiling the cnn\n",
        "cnn.compile(optimizer = 'adam', loss = 'binary_crossentropy', metrics = ['accuracy'])\n",
        "# Training the cnn on the Training set and  evaluating it on the Test set\n",
        "cnn.fit(x = training_set, validation_data = test_set, epochs = 25)\n"
      ],
      "metadata": {
        "colab": {
          "base_uri": "https://localhost:8080/"
        },
        "id": "SdIT_Z9jTOPk",
        "outputId": "473556b6-721e-4767-adbc-6800583b8c26"
      },
      "execution_count": 1,
      "outputs": [
        {
          "output_type": "stream",
          "name": "stdout",
          "text": [
            "Mounted at /content/drive\n",
            "Found 8000 images belonging to 2 classes.\n",
            "Found 2001 images belonging to 2 classes.\n",
            "Epoch 1/25\n",
            "250/250 [==============================] - 3647s 15s/step - loss: 0.6857 - accuracy: 0.5537 - val_loss: 0.6574 - val_accuracy: 0.6132\n",
            "Epoch 2/25\n",
            "250/250 [==============================] - 95s 380ms/step - loss: 0.6458 - accuracy: 0.6334 - val_loss: 0.6454 - val_accuracy: 0.6342\n",
            "Epoch 3/25\n",
            "250/250 [==============================] - 103s 413ms/step - loss: 0.5917 - accuracy: 0.6846 - val_loss: 0.5582 - val_accuracy: 0.7306\n",
            "Epoch 4/25\n",
            "250/250 [==============================] - 103s 413ms/step - loss: 0.5512 - accuracy: 0.7200 - val_loss: 0.5413 - val_accuracy: 0.7346\n",
            "Epoch 5/25\n",
            "250/250 [==============================] - 94s 376ms/step - loss: 0.5280 - accuracy: 0.7314 - val_loss: 0.5158 - val_accuracy: 0.7521\n",
            "Epoch 6/25\n",
            "250/250 [==============================] - 102s 408ms/step - loss: 0.5002 - accuracy: 0.7560 - val_loss: 0.5124 - val_accuracy: 0.7501\n",
            "Epoch 7/25\n",
            "250/250 [==============================] - 104s 415ms/step - loss: 0.4787 - accuracy: 0.7704 - val_loss: 0.5605 - val_accuracy: 0.7261\n",
            "Epoch 8/25\n",
            "250/250 [==============================] - 103s 414ms/step - loss: 0.4629 - accuracy: 0.7788 - val_loss: 0.5190 - val_accuracy: 0.7526\n",
            "Epoch 9/25\n",
            "250/250 [==============================] - 104s 414ms/step - loss: 0.4414 - accuracy: 0.7928 - val_loss: 0.4927 - val_accuracy: 0.7801\n",
            "Epoch 10/25\n",
            "250/250 [==============================] - 94s 374ms/step - loss: 0.4238 - accuracy: 0.8043 - val_loss: 0.4766 - val_accuracy: 0.7821\n",
            "Epoch 11/25\n",
            "250/250 [==============================] - 93s 372ms/step - loss: 0.4102 - accuracy: 0.8058 - val_loss: 0.4989 - val_accuracy: 0.7796\n",
            "Epoch 12/25\n",
            "250/250 [==============================] - 103s 413ms/step - loss: 0.3960 - accuracy: 0.8198 - val_loss: 0.5138 - val_accuracy: 0.7751\n",
            "Epoch 13/25\n",
            "250/250 [==============================] - 104s 418ms/step - loss: 0.3834 - accuracy: 0.8241 - val_loss: 0.4771 - val_accuracy: 0.7866\n",
            "Epoch 14/25\n",
            "250/250 [==============================] - 105s 418ms/step - loss: 0.3684 - accuracy: 0.8332 - val_loss: 0.4677 - val_accuracy: 0.8051\n",
            "Epoch 15/25\n",
            "250/250 [==============================] - 94s 374ms/step - loss: 0.3558 - accuracy: 0.8445 - val_loss: 0.4728 - val_accuracy: 0.7896\n",
            "Epoch 16/25\n",
            "250/250 [==============================] - 104s 414ms/step - loss: 0.3347 - accuracy: 0.8530 - val_loss: 0.5138 - val_accuracy: 0.7751\n",
            "Epoch 17/25\n",
            "250/250 [==============================] - 104s 415ms/step - loss: 0.3193 - accuracy: 0.8611 - val_loss: 0.5298 - val_accuracy: 0.7746\n",
            "Epoch 18/25\n",
            "250/250 [==============================] - 95s 379ms/step - loss: 0.3164 - accuracy: 0.8635 - val_loss: 0.5009 - val_accuracy: 0.7916\n",
            "Epoch 19/25\n",
            "250/250 [==============================] - 93s 374ms/step - loss: 0.2933 - accuracy: 0.8754 - val_loss: 0.4859 - val_accuracy: 0.7926\n",
            "Epoch 20/25\n",
            "250/250 [==============================] - 104s 416ms/step - loss: 0.2806 - accuracy: 0.8829 - val_loss: 0.5715 - val_accuracy: 0.7741\n",
            "Epoch 21/25\n",
            "250/250 [==============================] - 104s 414ms/step - loss: 0.2734 - accuracy: 0.8851 - val_loss: 0.5042 - val_accuracy: 0.8066\n",
            "Epoch 22/25\n",
            "250/250 [==============================] - 95s 381ms/step - loss: 0.2486 - accuracy: 0.8974 - val_loss: 0.5184 - val_accuracy: 0.8041\n",
            "Epoch 23/25\n",
            "250/250 [==============================] - 103s 413ms/step - loss: 0.2395 - accuracy: 0.9031 - val_loss: 0.5284 - val_accuracy: 0.8036\n",
            "Epoch 24/25\n",
            "250/250 [==============================] - 104s 415ms/step - loss: 0.2271 - accuracy: 0.9078 - val_loss: 0.5533 - val_accuracy: 0.7951\n",
            "Epoch 25/25\n",
            "250/250 [==============================] - 104s 418ms/step - loss: 0.2172 - accuracy: 0.9118 - val_loss: 0.5416 - val_accuracy: 0.8011\n"
          ]
        },
        {
          "output_type": "execute_result",
          "data": {
            "text/plain": [
              "<keras.src.callbacks.History at 0x7a9e32ae6830>"
            ]
          },
          "metadata": {},
          "execution_count": 1
        }
      ]
    },
    {
      "cell_type": "code",
      "source": [
        "import numpy as np\n",
        "from tensorflow.keras.preprocessing import image\n",
        "import matplotlib.pyplot as plt\n",
        "\n",
        "test_image1 = image.load_img('/content/drive/MyDrive/dog.jpg', target_size = (64, 64))\n",
        "test_image = image.img_to_array(test_image1)\n",
        "test_image = np.expand_dims(test_image, axis = 0)\n",
        "result = cnn.predict(test_image)\n",
        "training_set.class_indices\n",
        "if result[0][0] == 1:\n",
        "    prediction = 'dog'\n",
        "else:\n",
        "    prediction = 'cat'\n",
        "\n",
        "plt.figure(figsize=(5, 5))\n",
        "plt.subplot(1, 1, 1), plt.imshow(test_image1)\n",
        "plt.title('Original Image'), plt.xticks([]), plt.yticks([])\n",
        "plt.show()\n",
        "print(prediction)"
      ],
      "metadata": {
        "colab": {
          "base_uri": "https://localhost:8080/",
          "height": 479
        },
        "id": "O3Yhp9mDkEmV",
        "outputId": "f09e2f62-ea81-4910-9e1a-a45636dcc781"
      },
      "execution_count": 3,
      "outputs": [
        {
          "output_type": "stream",
          "name": "stdout",
          "text": [
            "1/1 [==============================] - 0s 22ms/step\n"
          ]
        },
        {
          "output_type": "display_data",
          "data": {
            "text/plain": [
              "<Figure size 500x500 with 1 Axes>"
            ],
            "image/png": "[encoded data removed]"
          },
          "metadata": {}
        },
        {
          "output_type": "stream",
          "name": "stdout",
          "text": [
            "dog\n"
          ]
        }
      ]
    }
  ]
}