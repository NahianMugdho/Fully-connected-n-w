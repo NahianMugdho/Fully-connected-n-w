{
 "cells": [
  {
   "cell_type": "markdown",
   "id": "4933af0c",
   "metadata": {},
   "source": [
    "# Part 1 - Data Preprocessing"
   ]
  },
  {
   "cell_type": "code",
   "execution_count": 1,
   "id": "7051120f",
   "metadata": {},
   "outputs": [
    {
     "name": "stdout",
     "output_type": "stream",
     "text": [
      "Found 8000 images belonging to 2 classes.\n",
      "Found 2000 images belonging to 2 classes.\n"
     ]
    }
   ],
   "source": [
    "\n",
    "import tensorflow as tf\n",
    "from keras.preprocessing.image import ImageDataGenerator\n",
    "\n",
    "#Training Set\n",
    "train_datagen = ImageDataGenerator(rescale = 1./255,\n",
    "                                   shear_range = 0.2,\n",
    "                                   zoom_range = 0.2,\n",
    "                                   horizontal_flip = True)\n",
    "training_set = train_datagen.flow_from_directory('dataset/training_set',\n",
    "                                                 target_size = (64, 64),\n",
    "                                                 batch_size = 32,\n",
    "                                                 class_mode = 'binary')\n",
    "#Test Set\n",
    "\n",
    "test_datagen = ImageDataGenerator(rescale = 1./255)\n",
    "test_set = test_datagen.flow_from_directory('dataset/test_set',\n",
    "                                            target_size = (64, 64),\n",
    "                                            batch_size = 32,\n",
    "                                            class_mode = 'binary')"
   ]
  },
  {
   "cell_type": "markdown",
   "id": "ebef4ba8",
   "metadata": {},
   "source": [
    "# Part 2 - Building the CNN"
   ]
  },
  {
   "cell_type": "code",
   "execution_count": 2,
   "id": "a7623519",
   "metadata": {},
   "outputs": [],
   "source": [
    "\n",
    "cnn = tf.keras.models.Sequential()\n",
    "\n",
    "cnn.add(tf.keras.layers.Conv2D(filters=32, kernel_size=3, activation='relu', input_shape=[64, 64, 3]))\n",
    "\n",
    "cnn.add(tf.keras.layers.MaxPool2D(pool_size=2, strides=2))\n",
    "\n",
    "cnn.add(tf.keras.layers.Conv2D(filters=32, kernel_size=3, activation='relu'))\n",
    "cnn.add(tf.keras.layers.MaxPool2D(pool_size=2, strides=2))"
   ]
  },
  {
   "cell_type": "code",
   "execution_count": 3,
   "id": "0c959d2d",
   "metadata": {},
   "outputs": [],
   "source": [
    "# Flattening\n",
    "cnn.add(tf.keras.layers.Flatten())"
   ]
  },
  {
   "cell_type": "code",
   "execution_count": 4,
   "id": "55b9276f",
   "metadata": {},
   "outputs": [],
   "source": [
    "#full connection\n",
    "# Adding the First hidden layer\n",
    "from keras.layers import Dense\n",
    "cnn.add(Dense(units=128, activation='relu'))\n",
    "\n",
    "#output layer\n",
    "cnn.add(Dense(units=1, activation='sigmoid'))"
   ]
  },
  {
   "cell_type": "markdown",
   "id": "9bb7861b",
   "metadata": {},
   "source": [
    "# Part 3 - Training the CNN"
   ]
  },
  {
   "cell_type": "code",
   "execution_count": 5,
   "id": "dd68af1e",
   "metadata": {},
   "outputs": [
    {
     "name": "stdout",
     "output_type": "stream",
     "text": [
      "Epoch 1/25\n",
      "250/250 [==============================] - 57s 221ms/step - loss: 0.6602 - accuracy: 0.6083 - val_loss: 0.6007 - val_accuracy: 0.6825\n",
      "Epoch 2/25\n",
      "250/250 [==============================] - 50s 201ms/step - loss: 0.6039 - accuracy: 0.6752 - val_loss: 0.5672 - val_accuracy: 0.7165\n",
      "Epoch 3/25\n",
      "250/250 [==============================] - 51s 204ms/step - loss: 0.5424 - accuracy: 0.7226 - val_loss: 0.5450 - val_accuracy: 0.7250\n",
      "Epoch 4/25\n",
      "250/250 [==============================] - 51s 202ms/step - loss: 0.5237 - accuracy: 0.7365 - val_loss: 0.5354 - val_accuracy: 0.7285\n",
      "Epoch 5/25\n",
      "250/250 [==============================] - 50s 201ms/step - loss: 0.5012 - accuracy: 0.7579 - val_loss: 0.4972 - val_accuracy: 0.7575\n",
      "Epoch 6/25\n",
      "250/250 [==============================] - 51s 204ms/step - loss: 0.4845 - accuracy: 0.7653 - val_loss: 0.5175 - val_accuracy: 0.7520\n",
      "Epoch 7/25\n",
      "250/250 [==============================] - 51s 203ms/step - loss: 0.4705 - accuracy: 0.7713 - val_loss: 0.4834 - val_accuracy: 0.7610\n",
      "Epoch 8/25\n",
      "250/250 [==============================] - 51s 205ms/step - loss: 0.4521 - accuracy: 0.7844 - val_loss: 0.4570 - val_accuracy: 0.7925\n",
      "Epoch 9/25\n",
      "250/250 [==============================] - 50s 202ms/step - loss: 0.4331 - accuracy: 0.7993 - val_loss: 0.4627 - val_accuracy: 0.7930\n",
      "Epoch 10/25\n",
      "250/250 [==============================] - 50s 202ms/step - loss: 0.4302 - accuracy: 0.7976 - val_loss: 0.4633 - val_accuracy: 0.7815\n",
      "Epoch 11/25\n",
      "250/250 [==============================] - 50s 202ms/step - loss: 0.4074 - accuracy: 0.8099 - val_loss: 0.5027 - val_accuracy: 0.7740\n",
      "Epoch 12/25\n",
      "250/250 [==============================] - 51s 203ms/step - loss: 0.3938 - accuracy: 0.8164 - val_loss: 0.4394 - val_accuracy: 0.7975\n",
      "Epoch 13/25\n",
      "250/250 [==============================] - 51s 203ms/step - loss: 0.3855 - accuracy: 0.8220 - val_loss: 0.4608 - val_accuracy: 0.8055\n",
      "Epoch 14/25\n",
      "250/250 [==============================] - 51s 202ms/step - loss: 0.3770 - accuracy: 0.8241 - val_loss: 0.5261 - val_accuracy: 0.7775\n",
      "Epoch 15/25\n",
      "250/250 [==============================] - 53s 213ms/step - loss: 0.3647 - accuracy: 0.8355 - val_loss: 0.4513 - val_accuracy: 0.7930\n",
      "Epoch 16/25\n",
      "250/250 [==============================] - 53s 210ms/step - loss: 0.3468 - accuracy: 0.8455 - val_loss: 0.4728 - val_accuracy: 0.7970\n",
      "Epoch 17/25\n",
      "250/250 [==============================] - 52s 210ms/step - loss: 0.3317 - accuracy: 0.8520 - val_loss: 0.4874 - val_accuracy: 0.7920\n",
      "Epoch 18/25\n",
      "250/250 [==============================] - 51s 203ms/step - loss: 0.3206 - accuracy: 0.8634 - val_loss: 0.4776 - val_accuracy: 0.7995\n",
      "Epoch 19/25\n",
      "250/250 [==============================] - 50s 198ms/step - loss: 0.3078 - accuracy: 0.8664 - val_loss: 0.5741 - val_accuracy: 0.7745\n",
      "Epoch 20/25\n",
      "250/250 [==============================] - 50s 199ms/step - loss: 0.2968 - accuracy: 0.8739 - val_loss: 0.4746 - val_accuracy: 0.8085\n",
      "Epoch 21/25\n",
      "250/250 [==============================] - 50s 198ms/step - loss: 0.2875 - accuracy: 0.8749 - val_loss: 0.5196 - val_accuracy: 0.7795\n",
      "Epoch 22/25\n",
      "250/250 [==============================] - 50s 198ms/step - loss: 0.2654 - accuracy: 0.8878 - val_loss: 0.4931 - val_accuracy: 0.8045\n",
      "Epoch 23/25\n",
      "250/250 [==============================] - 50s 200ms/step - loss: 0.2527 - accuracy: 0.8898 - val_loss: 0.5033 - val_accuracy: 0.8090\n",
      "Epoch 24/25\n",
      "250/250 [==============================] - 50s 200ms/step - loss: 0.2473 - accuracy: 0.8980 - val_loss: 0.5904 - val_accuracy: 0.7905\n",
      "Epoch 25/25\n",
      "250/250 [==============================] - 50s 201ms/step - loss: 0.2378 - accuracy: 0.9040 - val_loss: 0.5282 - val_accuracy: 0.8110\n"
     ]
    },
    {
     "data": {
      "text/plain": [
       "<keras.callbacks.History at 0x257cfd5e6a0>"
      ]
     },
     "execution_count": 5,
     "metadata": {},
     "output_type": "execute_result"
    }
   ],
   "source": [
    "\n",
    "# Compiling the cnn\n",
    "cnn.compile(optimizer = 'adam', loss = 'binary_crossentropy', metrics = ['accuracy'])\n",
    "# Training the cnn on the Training set and  evaluating it on the Test set\n",
    "cnn.fit(x = training_set, validation_data = test_set, epochs = 25)"
   ]
  },
  {
   "cell_type": "markdown",
   "id": "d31a918d",
   "metadata": {},
   "source": [
    "# Part 4 - Making a single prediction"
   ]
  },
  {
   "cell_type": "code",
   "execution_count": 21,
   "id": "8cd24fb4",
   "metadata": {},
   "outputs": [
    {
     "name": "stdout",
     "output_type": "stream",
     "text": [
      "1/1 [==============================] - 0s 33ms/step\n",
      "dog\n"
     ]
    }
   ],
   "source": [
    "import numpy as np\n",
    "from tensorflow.keras.preprocessing import image\n",
    "\n",
    "test_image = image.load_img('kit.jpg', target_size = (64, 64))\n",
    "test_image = image.img_to_array(test_image)\n",
    "test_image = np.expand_dims(test_image, axis = 0)\n",
    "result = cnn.predict(test_image)\n",
    "training_set.class_indices\n",
    "if result[0][0] == 1:\n",
    "    prediction = 'dog'\n",
    "else:\n",
    "    prediction = 'cat'\n",
    "\n",
    "    \n",
    "print(prediction)"
   ]
  },
  {
   "cell_type": "code",
   "execution_count": 8,
   "id": "4afd705e",
   "metadata": {},
   "outputs": [
    {
     "data": {
      "text/plain": [
       "'2.10.0'"
      ]
     },
     "execution_count": 8,
     "metadata": {},
     "output_type": "execute_result"
    }
   ],
   "source": [
    "tf.__version__"
   ]
  },
  {
   "cell_type": "code",
   "execution_count": null,
   "id": "7aff90a7",
   "metadata": {},
   "outputs": [],
   "source": []
  }
 ],
 "metadata": {
  "kernelspec": {
   "display_name": "Python 3 (ipykernel)",
   "language": "python",
   "name": "python3"
  },
  "language_info": {
   "codemirror_mode": {
    "name": "ipython",
    "version": 3
   },
   "file_extension": ".py",
   "mimetype": "text/x-python",
   "name": "python",
   "nbconvert_exporter": "python",
   "pygments_lexer": "ipython3",
   "version": "3.9.12"
  }
 },
 "nbformat": 4,
 "nbformat_minor": 5
}
